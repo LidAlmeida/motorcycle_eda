{
 "cells": [
  {
   "cell_type": "markdown",
   "id": "ec64b205",
   "metadata": {},
   "source": [
    "***\n",
    "# ANÁLISE DE DADOS PARA REVENDA DE MOTOCICLETAS \n",
    "***"
   ]
  },
  {
   "cell_type": "markdown",
   "id": "767ce50a",
   "metadata": {},
   "source": [
    "## CONTEXTO DO PROJETO:"
   ]
  },
  {
   "cell_type": "markdown",
   "id": "834f9b04",
   "metadata": {},
   "source": [
    "As análises contidas neste notebook fazem parte do projeto desenvolvido para a empresa **Xtreme Groovy Bikes Sales (XGB Sales)** revendedora de motocicletas usadas. Com a crescente do valor dos veículos usados, a XGB Sales, deseja expandir os seus negócios. \n",
    "\n",
    "O foco da análise de dados é auxiliar a empresa a encontrar as melhores motocicletas para revenda, aumentando assim o lucro da empresa. \n",
    "\n",
    "Além disso, o CEO da XGB Sales fez algumas perguntas a cerca da base de dados que a empresa possui que serão respondidas ao longo da análise de dados.\n",
    "\n",
    "**Lembrando que o contexto, empresa, pessoas e perguntas são completamente fictícios e existem somente na minha imaginação.**"
   ]
  },
  {
   "cell_type": "markdown",
   "id": "4e34342f",
   "metadata": {},
   "source": [
    "### SUMÁRIO DA ANÁLISE"
   ]
  },
  {
   "cell_type": "markdown",
   "id": "469691e3",
   "metadata": {},
   "source": [
    "Para facilitar o entendimento da análise, este projeto foi desenvolvido por seções (descritas abaixo) e subseções.\n",
    "\n",
    "Em todas as subseções você encontra por escrito quais foram as conclusões tiradas através da exploração dos dados e data visualization. Nos códigos também há o maior número de comentários possíveis, facilitando o entendimento do raciocínio no desenvolvimento deste notebook.\n",
    "\n",
    "**1. Importação de libraries e dataset**\n",
    "\n",
    "**2. Descrição do dataset:**\n",
    "     \n",
    "     O objetivo é entender o tamanho do dataset, identificar informaçoes incorretas e dados faltantes.\n",
    "    \n",
    "**3. Análises exploratória de dados**\n",
    "\n",
    "    Análise de informações gerais do dataset para entender melhor o dataset e os dados que serão trabalhados. A familiaridade com o dataset auxiliará na formação de hipóteses no próximo passo, este com as análises focadas em responder a pergunta: quais são as melhores motocicletas para revenda?  \n",
    "    \n",
    "**4.Conclusão do projeto**\n",
    "\n",
    "    Considerações finais do projeto."
   ]
  },
  {
   "cell_type": "markdown",
   "id": "a8059ba5",
   "metadata": {},
   "source": [
    "# IMPORTAÇÃO DE LIBRARIES"
   ]
  },
  {
   "cell_type": "code",
   "execution_count": 1,
   "id": "218e887a",
   "metadata": {},
   "outputs": [],
   "source": [
    "import matplotlib.pyplot as plt\n",
    "import seaborn as sns\n",
    "import plotly.express as px\n",
    "import pandas as pd\n",
    "import numpy as np\n",
    "import math"
   ]
  },
  {
   "cell_type": "markdown",
   "id": "d82cfd40",
   "metadata": {},
   "source": [
    "# IMPORTAÇÃO DATASET"
   ]
  },
  {
   "cell_type": "code",
   "execution_count": 2,
   "id": "b667e97f",
   "metadata": {},
   "outputs": [],
   "source": [
    "df_moto = pd.read_csv('bikes_completed.csv')\n",
    "df_moto.shape"
   ]
  },
  {
   "cell_type": "code",
   "execution_count": 3,
   "id": "6992900c",
   "metadata": {
    "scrolled": true
   },
   "outputs": [
    {
     "data": {
      "text/html": [
       "<div>\n",
       "<style scoped>\n",
       "    .dataframe tbody tr th:only-of-type {\n",
       "        vertical-align: middle;\n",
       "    }\n",
       "\n",
       "    .dataframe tbody tr th {\n",
       "        vertical-align: top;\n",
       "    }\n",
       "\n",
       "    .dataframe thead th {\n",
       "        text-align: right;\n",
       "    }\n",
       "</style>\n",
       "<table border=\"1\" class=\"dataframe\">\n",
       "  <thead>\n",
       "    <tr style=\"text-align: right;\">\n",
       "      <th></th>\n",
       "      <th>id</th>\n",
       "      <th>name</th>\n",
       "      <th>selling_price</th>\n",
       "      <th>year</th>\n",
       "      <th>seller_type</th>\n",
       "      <th>owner</th>\n",
       "      <th>km_driven</th>\n",
       "      <th>ex_showroom_price</th>\n",
       "      <th>km_class</th>\n",
       "      <th>age</th>\n",
       "      <th>company</th>\n",
       "    </tr>\n",
       "  </thead>\n",
       "  <tbody>\n",
       "    <tr>\n",
       "      <th>797</th>\n",
       "      <td>797</td>\n",
       "      <td>Royal Enfield Electra Twinspark</td>\n",
       "      <td>120000.0</td>\n",
       "      <td>2016</td>\n",
       "      <td>Individual</td>\n",
       "      <td>1st owner</td>\n",
       "      <td>345000</td>\n",
       "      <td>NaN</td>\n",
       "      <td>69</td>\n",
       "      <td>6</td>\n",
       "      <td>Royal Enfield</td>\n",
       "    </tr>\n",
       "    <tr>\n",
       "      <th>843</th>\n",
       "      <td>843</td>\n",
       "      <td>Hero Splendor Plus</td>\n",
       "      <td>65000.0</td>\n",
       "      <td>2018</td>\n",
       "      <td>Individual</td>\n",
       "      <td>1st owner</td>\n",
       "      <td>7500</td>\n",
       "      <td>NaN</td>\n",
       "      <td>2</td>\n",
       "      <td>4</td>\n",
       "      <td>Hero</td>\n",
       "    </tr>\n",
       "    <tr>\n",
       "      <th>629</th>\n",
       "      <td>629</td>\n",
       "      <td>Yamaha YZF R15 [2011-2018]</td>\n",
       "      <td>80000.0</td>\n",
       "      <td>2017</td>\n",
       "      <td>Individual</td>\n",
       "      <td>1st owner</td>\n",
       "      <td>27000</td>\n",
       "      <td>118997.0</td>\n",
       "      <td>6</td>\n",
       "      <td>5</td>\n",
       "      <td>Yamaha</td>\n",
       "    </tr>\n",
       "    <tr>\n",
       "      <th>181</th>\n",
       "      <td>181</td>\n",
       "      <td>Royal Enfield Electra 5 S</td>\n",
       "      <td>60000.0</td>\n",
       "      <td>2007</td>\n",
       "      <td>Individual</td>\n",
       "      <td>2nd owner</td>\n",
       "      <td>19612</td>\n",
       "      <td>NaN</td>\n",
       "      <td>4</td>\n",
       "      <td>15</td>\n",
       "      <td>Royal Enfield</td>\n",
       "    </tr>\n",
       "    <tr>\n",
       "      <th>409</th>\n",
       "      <td>409</td>\n",
       "      <td>Royal Enfield Classic Squadron Blue</td>\n",
       "      <td>140000.0</td>\n",
       "      <td>2017</td>\n",
       "      <td>Individual</td>\n",
       "      <td>1st owner</td>\n",
       "      <td>25000</td>\n",
       "      <td>181445.0</td>\n",
       "      <td>5</td>\n",
       "      <td>5</td>\n",
       "      <td>Royal Enfield</td>\n",
       "    </tr>\n",
       "  </tbody>\n",
       "</table>\n",
       "</div>"
      ],
      "text/plain": [
       "      id                                 name  selling_price  year  \\\n",
       "797  797      Royal Enfield Electra Twinspark       120000.0  2016   \n",
       "843  843                   Hero Splendor Plus        65000.0  2018   \n",
       "629  629           Yamaha YZF R15 [2011-2018]        80000.0  2017   \n",
       "181  181            Royal Enfield Electra 5 S        60000.0  2007   \n",
       "409  409  Royal Enfield Classic Squadron Blue       140000.0  2017   \n",
       "\n",
       "    seller_type      owner  km_driven  ex_showroom_price  km_class  age  \\\n",
       "797  Individual  1st owner     345000                NaN        69    6   \n",
       "843  Individual  1st owner       7500                NaN         2    4   \n",
       "629  Individual  1st owner      27000           118997.0         6    5   \n",
       "181  Individual  2nd owner      19612                NaN         4   15   \n",
       "409  Individual  1st owner      25000           181445.0         5    5   \n",
       "\n",
       "           company  \n",
       "797  Royal Enfield  \n",
       "843           Hero  \n",
       "629         Yamaha  \n",
       "181  Royal Enfield  \n",
       "409  Royal Enfield  "
      ]
     },
     "execution_count": 3,
     "metadata": {},
     "output_type": "execute_result"
    }
   ],
   "source": [
    "# Visualizando o dataframe com dados aleatórios\n",
    "df_moto.sample(5)"
   ]
  },
  {
   "cell_type": "markdown",
   "id": "b8de48c5",
   "metadata": {},
   "source": [
    "# DESCRIÇÃO DOS DADOS"
   ]
  },
  {
   "cell_type": "code",
   "execution_count": 4,
   "id": "09de635b",
   "metadata": {},
   "outputs": [
    {
     "data": {
      "text/plain": [
       "array(['id', 'name', 'selling_price', 'year', 'seller_type', 'owner',\n",
       "       'km_driven', 'ex_showroom_price', 'km_class', 'age', 'company'],\n",
       "      dtype=object)"
      ]
     },
     "execution_count": 4,
     "metadata": {},
     "output_type": "execute_result"
    }
   ],
   "source": [
    "# Verificando as colunas existentes\n",
    "df_moto.columns.values"
   ]
  },
  {
   "cell_type": "markdown",
   "id": "0088349a",
   "metadata": {},
   "source": [
    "| Coluna | Descrição |\n",
    "| :----- | :-------- |\n",
    "| ID | Identificador da linha/registro |\n",
    "| name | Fabricante e Modelo da Moto |\n",
    "| selling_price | Preço de Venda |\n",
    "| year | Ano de Fabricação da Moto |\n",
    "| seller_type | Tipo de Vendedor - Se é vendedor pessoal (i.e. individual) ou revendedor (i.e. dealer) |\n",
    "| owner | Se é primeiro, segundo, terceiro ou quarto dono da motocicleta |\n",
    "| km_driven | Quantidade de Quilometros percorrido pela motocicleta |\n",
    "| ex_showroom_price | Preço da motocicleta sem as taxas de seguro e registro |"
   ]
  },
  {
   "cell_type": "code",
   "execution_count": 5,
   "id": "e70453d5",
   "metadata": {
    "scrolled": true
   },
   "outputs": [
    {
     "name": "stdout",
     "output_type": "stream",
     "text": [
      "O dataset possui 1061 linhas e 11 colunas\n"
     ]
    }
   ],
   "source": [
    "# Tamanho do dataset\n",
    "df_moto.shape\n",
    "\n",
    "print('O dataset possui {} linhas e {} colunas'.format(df_moto.shape[0], df_moto.shape[1]))"
   ]
  },
  {
   "cell_type": "code",
   "execution_count": 6,
   "id": "68efb40c",
   "metadata": {},
   "outputs": [
    {
     "name": "stdout",
     "output_type": "stream",
     "text": [
      "Quantidade de motos na base de dados: 1061\n"
     ]
    }
   ],
   "source": [
    "# Quantas motos temos na base de dados?\n",
    "print(f'Quantidade de motos na base de dados: {df_moto.shape[0]}')"
   ]
  },
  {
   "cell_type": "code",
   "execution_count": 7,
   "id": "9d0c9e8c",
   "metadata": {
    "scrolled": true
   },
   "outputs": [
    {
     "data": {
      "text/plain": [
       "id                     0\n",
       "name                   0\n",
       "selling_price          0\n",
       "year                   0\n",
       "seller_type            0\n",
       "owner                  0\n",
       "km_driven              0\n",
       "ex_showroom_price    435\n",
       "km_class               0\n",
       "age                    0\n",
       "company                0\n",
       "dtype: int64"
      ]
     },
     "execution_count": 7,
     "metadata": {},
     "output_type": "execute_result"
    }
   ],
   "source": [
    "# Verificando valores nulos\n",
    "df_moto.isna().sum()"
   ]
  },
  {
   "cell_type": "code",
   "execution_count": 8,
   "id": "a60412bd",
   "metadata": {
    "scrolled": false
   },
   "outputs": [
    {
     "data": {
      "text/plain": [
       "id                     int64\n",
       "name                  object\n",
       "selling_price        float64\n",
       "year                   int64\n",
       "seller_type           object\n",
       "owner                 object\n",
       "km_driven              int64\n",
       "ex_showroom_price    float64\n",
       "km_class               int64\n",
       "age                    int64\n",
       "company               object\n",
       "dtype: object"
      ]
     },
     "execution_count": 8,
     "metadata": {},
     "output_type": "execute_result"
    }
   ],
   "source": [
    "# Verificando o tipo de dado\n",
    "df_moto.dtypes"
   ]
  },
  {
   "cell_type": "code",
   "execution_count": 9,
   "id": "c6ec4919",
   "metadata": {
    "scrolled": false
   },
   "outputs": [
    {
     "data": {
      "text/html": [
       "<div>\n",
       "<style scoped>\n",
       "    .dataframe tbody tr th:only-of-type {\n",
       "        vertical-align: middle;\n",
       "    }\n",
       "\n",
       "    .dataframe tbody tr th {\n",
       "        vertical-align: top;\n",
       "    }\n",
       "\n",
       "    .dataframe thead th {\n",
       "        text-align: right;\n",
       "    }\n",
       "</style>\n",
       "<table border=\"1\" class=\"dataframe\">\n",
       "  <thead>\n",
       "    <tr style=\"text-align: right;\">\n",
       "      <th></th>\n",
       "      <th>id</th>\n",
       "      <th>name</th>\n",
       "      <th>selling_price</th>\n",
       "      <th>year</th>\n",
       "      <th>seller_type</th>\n",
       "      <th>owner</th>\n",
       "      <th>km_driven</th>\n",
       "      <th>ex_showroom_price</th>\n",
       "      <th>km_class</th>\n",
       "      <th>age</th>\n",
       "      <th>company</th>\n",
       "    </tr>\n",
       "  </thead>\n",
       "  <tbody>\n",
       "    <tr>\n",
       "      <th>0</th>\n",
       "      <td>0</td>\n",
       "      <td>Royal Enfield Classic 350</td>\n",
       "      <td>175000.0</td>\n",
       "      <td>2019</td>\n",
       "      <td>Individual</td>\n",
       "      <td>1st owner</td>\n",
       "      <td>350</td>\n",
       "      <td>NaN</td>\n",
       "      <td>1</td>\n",
       "      <td>3</td>\n",
       "      <td>Royal Enfield</td>\n",
       "    </tr>\n",
       "    <tr>\n",
       "      <th>1</th>\n",
       "      <td>1</td>\n",
       "      <td>Honda Dio</td>\n",
       "      <td>45000.0</td>\n",
       "      <td>2017</td>\n",
       "      <td>Individual</td>\n",
       "      <td>1st owner</td>\n",
       "      <td>5650</td>\n",
       "      <td>NaN</td>\n",
       "      <td>2</td>\n",
       "      <td>5</td>\n",
       "      <td>Honda</td>\n",
       "    </tr>\n",
       "    <tr>\n",
       "      <th>2</th>\n",
       "      <td>2</td>\n",
       "      <td>Royal Enfield Classic Gunmetal Grey</td>\n",
       "      <td>150000.0</td>\n",
       "      <td>2018</td>\n",
       "      <td>Individual</td>\n",
       "      <td>1st owner</td>\n",
       "      <td>12000</td>\n",
       "      <td>148114.0</td>\n",
       "      <td>3</td>\n",
       "      <td>4</td>\n",
       "      <td>Royal Enfield</td>\n",
       "    </tr>\n",
       "    <tr>\n",
       "      <th>3</th>\n",
       "      <td>3</td>\n",
       "      <td>Yamaha Fazer FI V 2.0 [2016-2018]</td>\n",
       "      <td>65000.0</td>\n",
       "      <td>2015</td>\n",
       "      <td>Individual</td>\n",
       "      <td>1st owner</td>\n",
       "      <td>23000</td>\n",
       "      <td>89643.0</td>\n",
       "      <td>5</td>\n",
       "      <td>7</td>\n",
       "      <td>Yamaha</td>\n",
       "    </tr>\n",
       "    <tr>\n",
       "      <th>4</th>\n",
       "      <td>4</td>\n",
       "      <td>Yamaha SZ [2013-2014]</td>\n",
       "      <td>20000.0</td>\n",
       "      <td>2011</td>\n",
       "      <td>Individual</td>\n",
       "      <td>2nd owner</td>\n",
       "      <td>21000</td>\n",
       "      <td>NaN</td>\n",
       "      <td>5</td>\n",
       "      <td>11</td>\n",
       "      <td>Yamaha</td>\n",
       "    </tr>\n",
       "  </tbody>\n",
       "</table>\n",
       "</div>"
      ],
      "text/plain": [
       "   id                                 name  selling_price  year seller_type  \\\n",
       "0   0            Royal Enfield Classic 350       175000.0  2019  Individual   \n",
       "1   1                            Honda Dio        45000.0  2017  Individual   \n",
       "2   2  Royal Enfield Classic Gunmetal Grey       150000.0  2018  Individual   \n",
       "3   3    Yamaha Fazer FI V 2.0 [2016-2018]        65000.0  2015  Individual   \n",
       "4   4                Yamaha SZ [2013-2014]        20000.0  2011  Individual   \n",
       "\n",
       "       owner  km_driven  ex_showroom_price  km_class  age        company  \n",
       "0  1st owner        350                NaN         1    3  Royal Enfield  \n",
       "1  1st owner       5650                NaN         2    5          Honda  \n",
       "2  1st owner      12000           148114.0         3    4  Royal Enfield  \n",
       "3  1st owner      23000            89643.0         5    7         Yamaha  \n",
       "4  2nd owner      21000                NaN         5   11         Yamaha  "
      ]
     },
     "execution_count": 9,
     "metadata": {},
     "output_type": "execute_result"
    }
   ],
   "source": [
    "# Deixando a coluna selling_price e ex_showroom_price na mesma grandeza\n",
    "df_moto['selling_price'] = df_moto['selling_price'].astype(float)\n",
    "df_moto.head()"
   ]
  },
  {
   "cell_type": "code",
   "execution_count": 40,
   "id": "f42c262a",
   "metadata": {
    "scrolled": true
   },
   "outputs": [
    {
     "data": {
      "text/html": [
       "<div>\n",
       "<style scoped>\n",
       "    .dataframe tbody tr th:only-of-type {\n",
       "        vertical-align: middle;\n",
       "    }\n",
       "\n",
       "    .dataframe tbody tr th {\n",
       "        vertical-align: top;\n",
       "    }\n",
       "\n",
       "    .dataframe thead th {\n",
       "        text-align: right;\n",
       "    }\n",
       "</style>\n",
       "<table border=\"1\" class=\"dataframe\">\n",
       "  <thead>\n",
       "    <tr style=\"text-align: right;\">\n",
       "      <th></th>\n",
       "      <th>count</th>\n",
       "      <th>mean</th>\n",
       "      <th>std</th>\n",
       "      <th>min</th>\n",
       "      <th>25%</th>\n",
       "      <th>50%</th>\n",
       "      <th>75%</th>\n",
       "      <th>max</th>\n",
       "    </tr>\n",
       "  </thead>\n",
       "  <tbody>\n",
       "    <tr>\n",
       "      <th>id</th>\n",
       "      <td>1061.0</td>\n",
       "      <td>530.00</td>\n",
       "      <td>306.43</td>\n",
       "      <td>0.0</td>\n",
       "      <td>265.0</td>\n",
       "      <td>530.0</td>\n",
       "      <td>795.0</td>\n",
       "      <td>1060.0</td>\n",
       "    </tr>\n",
       "    <tr>\n",
       "      <th>selling_price</th>\n",
       "      <td>1061.0</td>\n",
       "      <td>59638.15</td>\n",
       "      <td>56304.29</td>\n",
       "      <td>5000.0</td>\n",
       "      <td>28000.0</td>\n",
       "      <td>45000.0</td>\n",
       "      <td>70000.0</td>\n",
       "      <td>760000.0</td>\n",
       "    </tr>\n",
       "    <tr>\n",
       "      <th>year</th>\n",
       "      <td>1061.0</td>\n",
       "      <td>2013.87</td>\n",
       "      <td>4.30</td>\n",
       "      <td>1988.0</td>\n",
       "      <td>2011.0</td>\n",
       "      <td>2015.0</td>\n",
       "      <td>2017.0</td>\n",
       "      <td>2020.0</td>\n",
       "    </tr>\n",
       "    <tr>\n",
       "      <th>km_driven</th>\n",
       "      <td>1061.0</td>\n",
       "      <td>34359.83</td>\n",
       "      <td>51623.15</td>\n",
       "      <td>350.0</td>\n",
       "      <td>13500.0</td>\n",
       "      <td>25000.0</td>\n",
       "      <td>43000.0</td>\n",
       "      <td>880000.0</td>\n",
       "    </tr>\n",
       "    <tr>\n",
       "      <th>ex_showroom_price</th>\n",
       "      <td>626.0</td>\n",
       "      <td>87958.71</td>\n",
       "      <td>77496.59</td>\n",
       "      <td>30490.0</td>\n",
       "      <td>54852.0</td>\n",
       "      <td>72752.5</td>\n",
       "      <td>87031.5</td>\n",
       "      <td>1278000.0</td>\n",
       "    </tr>\n",
       "    <tr>\n",
       "      <th>km_class</th>\n",
       "      <td>1061.0</td>\n",
       "      <td>7.20</td>\n",
       "      <td>10.28</td>\n",
       "      <td>1.0</td>\n",
       "      <td>3.0</td>\n",
       "      <td>5.0</td>\n",
       "      <td>9.0</td>\n",
       "      <td>176.0</td>\n",
       "    </tr>\n",
       "    <tr>\n",
       "      <th>age</th>\n",
       "      <td>1061.0</td>\n",
       "      <td>8.13</td>\n",
       "      <td>4.30</td>\n",
       "      <td>2.0</td>\n",
       "      <td>5.0</td>\n",
       "      <td>7.0</td>\n",
       "      <td>11.0</td>\n",
       "      <td>34.0</td>\n",
       "    </tr>\n",
       "  </tbody>\n",
       "</table>\n",
       "</div>"
      ],
      "text/plain": [
       "                    count      mean       std      min      25%      50%  \\\n",
       "id                 1061.0    530.00    306.43      0.0    265.0    530.0   \n",
       "selling_price      1061.0  59638.15  56304.29   5000.0  28000.0  45000.0   \n",
       "year               1061.0   2013.87      4.30   1988.0   2011.0   2015.0   \n",
       "km_driven          1061.0  34359.83  51623.15    350.0  13500.0  25000.0   \n",
       "ex_showroom_price   626.0  87958.71  77496.59  30490.0  54852.0  72752.5   \n",
       "km_class           1061.0      7.20     10.28      1.0      3.0      5.0   \n",
       "age                1061.0      8.13      4.30      2.0      5.0      7.0   \n",
       "\n",
       "                       75%        max  \n",
       "id                   795.0     1060.0  \n",
       "selling_price      70000.0   760000.0  \n",
       "year                2017.0     2020.0  \n",
       "km_driven          43000.0   880000.0  \n",
       "ex_showroom_price  87031.5  1278000.0  \n",
       "km_class               9.0      176.0  \n",
       "age                   11.0       34.0  "
      ]
     },
     "execution_count": 40,
     "metadata": {},
     "output_type": "execute_result"
    }
   ],
   "source": [
    "df_moto.describe().round(2).T"
   ]
  },
  {
   "cell_type": "markdown",
   "id": "72f5ce96",
   "metadata": {},
   "source": [
    "- O valor máximo de 'km_drive' = 880000 é equivalente a mais de 20 voltas ao redor do planeta.\n",
    "- Há a possibilidade de ser um erro de input de dados, portanto, excluirei esse registro do dataset."
   ]
  },
  {
   "cell_type": "code",
   "execution_count": 43,
   "id": "b8772ae9",
   "metadata": {
    "scrolled": false
   },
   "outputs": [
    {
     "data": {
      "text/html": [
       "<div>\n",
       "<style scoped>\n",
       "    .dataframe tbody tr th:only-of-type {\n",
       "        vertical-align: middle;\n",
       "    }\n",
       "\n",
       "    .dataframe tbody tr th {\n",
       "        vertical-align: top;\n",
       "    }\n",
       "\n",
       "    .dataframe thead th {\n",
       "        text-align: right;\n",
       "    }\n",
       "</style>\n",
       "<table border=\"1\" class=\"dataframe\">\n",
       "  <thead>\n",
       "    <tr style=\"text-align: right;\">\n",
       "      <th></th>\n",
       "      <th>id</th>\n",
       "      <th>name</th>\n",
       "      <th>selling_price</th>\n",
       "      <th>year</th>\n",
       "      <th>seller_type</th>\n",
       "      <th>owner</th>\n",
       "      <th>km_driven</th>\n",
       "      <th>ex_showroom_price</th>\n",
       "      <th>km_class</th>\n",
       "      <th>age</th>\n",
       "      <th>company</th>\n",
       "    </tr>\n",
       "  </thead>\n",
       "  <tbody>\n",
       "    <tr>\n",
       "      <th>642</th>\n",
       "      <td>642</td>\n",
       "      <td>TVS Apache RTR 160</td>\n",
       "      <td>15000.0</td>\n",
       "      <td>2009</td>\n",
       "      <td>Individual</td>\n",
       "      <td>4th owner</td>\n",
       "      <td>880000</td>\n",
       "      <td>NaN</td>\n",
       "      <td>176</td>\n",
       "      <td>13</td>\n",
       "      <td>TVS</td>\n",
       "    </tr>\n",
       "  </tbody>\n",
       "</table>\n",
       "</div>"
      ],
      "text/plain": [
       "      id                name  selling_price  year seller_type      owner  \\\n",
       "642  642  TVS Apache RTR 160        15000.0  2009  Individual  4th owner   \n",
       "\n",
       "     km_driven  ex_showroom_price  km_class  age company  \n",
       "642     880000                NaN       176   13     TVS  "
      ]
     },
     "execution_count": 43,
     "metadata": {},
     "output_type": "execute_result"
    }
   ],
   "source": [
    "df_moto.loc[df_moto['km_driven'] == 880000, :]"
   ]
  },
  {
   "cell_type": "markdown",
   "id": "ab521614",
   "metadata": {},
   "source": [
    "# ENTENDENDO OS DADOS"
   ]
  },
  {
   "cell_type": "markdown",
   "id": "a72bb4a1",
   "metadata": {},
   "source": [
    "## Dados numéricos"
   ]
  },
  {
   "cell_type": "code",
   "execution_count": 12,
   "id": "307191a2",
   "metadata": {
    "scrolled": true
   },
   "outputs": [
    {
     "data": {
      "text/html": [
       "<div>\n",
       "<style scoped>\n",
       "    .dataframe tbody tr th:only-of-type {\n",
       "        vertical-align: middle;\n",
       "    }\n",
       "\n",
       "    .dataframe tbody tr th {\n",
       "        vertical-align: top;\n",
       "    }\n",
       "\n",
       "    .dataframe thead th {\n",
       "        text-align: right;\n",
       "    }\n",
       "</style>\n",
       "<table border=\"1\" class=\"dataframe\">\n",
       "  <thead>\n",
       "    <tr style=\"text-align: right;\">\n",
       "      <th></th>\n",
       "      <th>Attributes</th>\n",
       "      <th>mean</th>\n",
       "      <th>median</th>\n",
       "      <th>std</th>\n",
       "      <th>min</th>\n",
       "      <th>max</th>\n",
       "      <th>range</th>\n",
       "      <th>skew</th>\n",
       "      <th>kurtosis</th>\n",
       "    </tr>\n",
       "  </thead>\n",
       "  <tbody>\n",
       "    <tr>\n",
       "      <th>0</th>\n",
       "      <td>selling_price</td>\n",
       "      <td>59638.15</td>\n",
       "      <td>45000.0</td>\n",
       "      <td>56304.29</td>\n",
       "      <td>5000.0</td>\n",
       "      <td>760000.0</td>\n",
       "      <td>755000.0</td>\n",
       "      <td>4.99</td>\n",
       "      <td>47.26</td>\n",
       "    </tr>\n",
       "    <tr>\n",
       "      <th>1</th>\n",
       "      <td>year</td>\n",
       "      <td>2013.87</td>\n",
       "      <td>2015.0</td>\n",
       "      <td>4.30</td>\n",
       "      <td>1988.0</td>\n",
       "      <td>2020.0</td>\n",
       "      <td>32.0</td>\n",
       "      <td>-1.40</td>\n",
       "      <td>3.22</td>\n",
       "    </tr>\n",
       "    <tr>\n",
       "      <th>2</th>\n",
       "      <td>km_driven</td>\n",
       "      <td>34359.83</td>\n",
       "      <td>25000.0</td>\n",
       "      <td>51623.15</td>\n",
       "      <td>350.0</td>\n",
       "      <td>880000.0</td>\n",
       "      <td>879650.0</td>\n",
       "      <td>9.31</td>\n",
       "      <td>115.82</td>\n",
       "    </tr>\n",
       "    <tr>\n",
       "      <th>3</th>\n",
       "      <td>ex_showroom_price</td>\n",
       "      <td>87958.71</td>\n",
       "      <td>72752.5</td>\n",
       "      <td>77496.59</td>\n",
       "      <td>30490.0</td>\n",
       "      <td>1278000.0</td>\n",
       "      <td>NaN</td>\n",
       "      <td>8.44</td>\n",
       "      <td>104.40</td>\n",
       "    </tr>\n",
       "  </tbody>\n",
       "</table>\n",
       "</div>"
      ],
      "text/plain": [
       "          Attributes      mean   median       std      min        max  \\\n",
       "0      selling_price  59638.15  45000.0  56304.29   5000.0   760000.0   \n",
       "1               year   2013.87   2015.0      4.30   1988.0     2020.0   \n",
       "2          km_driven  34359.83  25000.0  51623.15    350.0   880000.0   \n",
       "3  ex_showroom_price  87958.71  72752.5  77496.59  30490.0  1278000.0   \n",
       "\n",
       "      range  skew  kurtosis  \n",
       "0  755000.0  4.99     47.26  \n",
       "1      32.0 -1.40      3.22  \n",
       "2  879650.0  9.31    115.82  \n",
       "3       NaN  8.44    104.40  "
      ]
     },
     "execution_count": 12,
     "metadata": {},
     "output_type": "execute_result"
    }
   ],
   "source": [
    "# Visualização geral das informações das variáveis numéricas\n",
    "df_moto[['selling_price', 'year', 'km_driven', 'ex_showroom_price']].agg(\n",
    "    ['mean', 'median', 'std', 'min', 'max', 'ptp', 'skew',\n",
    "     'kurtosis']).round(2).T.reset_index().rename(columns={\n",
    "         'index': 'Attributes',\n",
    "         'ptp': 'range'\n",
    "     })"
   ]
  },
  {
   "cell_type": "code",
   "execution_count": 13,
   "id": "9fa9d019",
   "metadata": {
    "scrolled": true
   },
   "outputs": [
    {
     "data": {
      "image/png": "[encoded data removed]",
      "text/plain": [
       "<Figure size 1296x360 with 3 Axes>"
      ]
     },
     "metadata": {
      "needs_background": "light"
     },
     "output_type": "display_data"
    }
   ],
   "source": [
    "# Colocar titulos em cada gráfico, linha de média e linha de mediana, colocar label no eixo x.\n",
    "\n",
    "fig, axs = plt.subplots(1, 3, figsize=(18, 5))\n",
    "\n",
    "# Preço de venda\n",
    "sns.histplot(df_moto.selling_price,\n",
    "             bins=30,\n",
    "             color='skyblue',\n",
    "             ax=axs[0])\n",
    "\n",
    "# Quantidade de Quilometros percorrido pela motocicleta\n",
    "sns.histplot(df_moto.km_driven,\n",
    "             bins=30,\n",
    "             color='olive',\n",
    "             ax=axs[1])\n",
    "\n",
    "# Ano de fabricação da moto\n",
    "sns.histplot(df_moto.year,\n",
    "             bins=30,\n",
    "             color='teal',\n",
    "             ax=axs[2])\n",
    "ax = plt.title('HISTOGRAMA DO ANO DE FABRICAÇÃO',\n",
    "          pad=20,\n",
    "          fontsize=13,\n",
    "          color='dimgrey',\n",
    "          fontweight='bold')"
   ]
  },
  {
   "cell_type": "markdown",
   "id": "25acb266",
   "metadata": {},
   "source": [
    "## Dados categóricos"
   ]
  },
  {
   "cell_type": "code",
   "execution_count": 14,
   "id": "1fe3fed9",
   "metadata": {
    "scrolled": true
   },
   "outputs": [
    {
     "data": {
      "text/plain": [
       "name           279\n",
       "seller_type      2\n",
       "owner            4\n",
       "company         20\n",
       "dtype: int64"
      ]
     },
     "execution_count": 14,
     "metadata": {},
     "output_type": "execute_result"
    }
   ],
   "source": [
    "# Quantos valores únicos existem para cada variável categórica?\n",
    "df_moto.select_dtypes(include=['object']).nunique()"
   ]
  },
  {
   "cell_type": "code",
   "execution_count": 15,
   "id": "00b54601",
   "metadata": {},
   "outputs": [
    {
     "data": {
      "text/plain": [
       "Individual    1055\n",
       "Dealer           6\n",
       "Name: seller_type, dtype: int64"
      ]
     },
     "execution_count": 15,
     "metadata": {},
     "output_type": "execute_result"
    }
   ],
   "source": [
    "# Tipo de Vendedor - Quantas motocicletas são vendidas pelo dono e quantas são vendidas por revendedores?\n",
    "df_moto['seller_type'].value_counts()"
   ]
  },
  {
   "cell_type": "code",
   "execution_count": 16,
   "id": "7f175c67",
   "metadata": {},
   "outputs": [
    {
     "data": {
      "text/plain": [
       "1st owner    924\n",
       "2nd owner    123\n",
       "3rd owner     11\n",
       "4th owner      3\n",
       "Name: owner, dtype: int64"
      ]
     },
     "execution_count": 16,
     "metadata": {},
     "output_type": "execute_result"
    }
   ],
   "source": [
    "# Quantas motocicletas são vendidas pelo primeiro, segundo, terceiro ou quarto dono?\n",
    "df_moto['owner'].value_counts()"
   ]
  },
  {
   "cell_type": "code",
   "execution_count": 24,
   "id": "f3b89aef",
   "metadata": {},
   "outputs": [
    {
     "data": {
      "image/png": "[encoded data removed]",
      "text/plain": [
       "<Figure size 576x432 with 1 Axes>"
      ]
     },
     "metadata": {
      "needs_background": "light"
     },
     "output_type": "display_data"
    }
   ],
   "source": [
    "plt.figure(figsize=(8, 6))\n",
    "\n",
    "sns.countplot(x='owner',\n",
    "              data=df_moto,\n",
    "              palette='crest',\n",
    "              hue='owner',\n",
    "              dodge=False)\n",
    "plt.ylabel('N° DE MOTOCICLETAS', color='dimgrey', labelpad = 20, fontsize = 14, fontweight='bold')\n",
    "plt.title(\n",
    "    'Quantas motocicletas são vendidas pelo primeiro, segundo, terceiro ou quarto dono?',\n",
    "    pad=20,\n",
    "    fontsize=16,\n",
    "    color='dimgrey',\n",
    "    fontweight='bold');"
   ]
  },
  {
   "cell_type": "code",
   "execution_count": 18,
   "id": "14242cac",
   "metadata": {},
   "outputs": [
    {
     "data": {
      "text/plain": [
       "Bajaj              260\n",
       "Hero               232\n",
       "Honda              204\n",
       "Royal Enfield      109\n",
       "Yamaha             102\n",
       "TVS                 69\n",
       "Suzuki              30\n",
       "KTM                 24\n",
       "Mahindra             6\n",
       "Kawasaki             4\n",
       "Vespa                4\n",
       "UM                   3\n",
       "Activa               3\n",
       "Jawa                 3\n",
       "Harley-Davidson      2\n",
       "Aprilia              2\n",
       "BMW                  1\n",
       "Benelli              1\n",
       "Yo                   1\n",
       "Hyosung              1\n",
       "Name: company, dtype: int64"
      ]
     },
     "execution_count": 18,
     "metadata": {},
     "output_type": "execute_result"
    }
   ],
   "source": [
    "# Quais são so fabricantes que mais possuem motos cadastradas na base de dados completa?\n",
    "df_moto['company'].value_counts(ascending=False)"
   ]
  },
  {
   "cell_type": "code",
   "execution_count": 19,
   "id": "5dad03b7",
   "metadata": {
    "scrolled": true
   },
   "outputs": [
    {
     "data": {
      "text/plain": [
       "Bajaj Pulsar 150                 41\n",
       "Royal Enfield Classic 350        27\n",
       "Honda Activa [2000-2015]         23\n",
       "Honda CB Hornet 160R             22\n",
       "Bajaj Pulsar 180                 20\n",
       "                                 ..\n",
       "Hero Honda CD100SS                1\n",
       "Royal Enfield Thunderbird 500     1\n",
       "BMW G310GS                        1\n",
       "TVS Radeon                        1\n",
       "Bajaj  ct 100                     1\n",
       "Name: name, Length: 279, dtype: int64"
      ]
     },
     "execution_count": 19,
     "metadata": {},
     "output_type": "execute_result"
    }
   ],
   "source": [
    "# Existem 279 modelos de motocicletas no dataset\n",
    "# Quais são os modelos mais colocados a venda no dataset?\n",
    "df_moto['name'].value_counts(ascending=False)"
   ]
  },
  {
   "cell_type": "markdown",
   "id": "05935bf4",
   "metadata": {},
   "source": [
    "## Fabricante da motocicleta X Preço de venda\n",
    "\n",
    "**Qual das fabricantes possui o maior preço médio de suas motos?**"
   ]
  },
  {
   "cell_type": "code",
   "execution_count": 53,
   "id": "da9ef173",
   "metadata": {
    "scrolled": true
   },
   "outputs": [
    {
     "data": {
      "text/html": [
       "<div>\n",
       "<style scoped>\n",
       "    .dataframe tbody tr th:only-of-type {\n",
       "        vertical-align: middle;\n",
       "    }\n",
       "\n",
       "    .dataframe tbody tr th {\n",
       "        vertical-align: top;\n",
       "    }\n",
       "\n",
       "    .dataframe thead th {\n",
       "        text-align: right;\n",
       "    }\n",
       "</style>\n",
       "<table border=\"1\" class=\"dataframe\">\n",
       "  <thead>\n",
       "    <tr style=\"text-align: right;\">\n",
       "      <th></th>\n",
       "      <th>company</th>\n",
       "      <th>selling_price</th>\n",
       "    </tr>\n",
       "  </thead>\n",
       "  <tbody>\n",
       "    <tr>\n",
       "      <th>0</th>\n",
       "      <td>Harley-Davidson</td>\n",
       "      <td>540000.00</td>\n",
       "    </tr>\n",
       "    <tr>\n",
       "      <th>1</th>\n",
       "      <td>BMW</td>\n",
       "      <td>300000.00</td>\n",
       "    </tr>\n",
       "    <tr>\n",
       "      <th>2</th>\n",
       "      <td>Kawasaki</td>\n",
       "      <td>287500.00</td>\n",
       "    </tr>\n",
       "    <tr>\n",
       "      <th>3</th>\n",
       "      <td>Jawa</td>\n",
       "      <td>175000.00</td>\n",
       "    </tr>\n",
       "    <tr>\n",
       "      <th>4</th>\n",
       "      <td>Benelli</td>\n",
       "      <td>160000.00</td>\n",
       "    </tr>\n",
       "    <tr>\n",
       "      <th>5</th>\n",
       "      <td>UM</td>\n",
       "      <td>156666.67</td>\n",
       "    </tr>\n",
       "    <tr>\n",
       "      <th>6</th>\n",
       "      <td>KTM</td>\n",
       "      <td>155708.33</td>\n",
       "    </tr>\n",
       "    <tr>\n",
       "      <th>7</th>\n",
       "      <td>Hyosung</td>\n",
       "      <td>135000.00</td>\n",
       "    </tr>\n",
       "    <tr>\n",
       "      <th>8</th>\n",
       "      <td>Royal Enfield</td>\n",
       "      <td>128549.54</td>\n",
       "    </tr>\n",
       "    <tr>\n",
       "      <th>9</th>\n",
       "      <td>Suzuki</td>\n",
       "      <td>73800.00</td>\n",
       "    </tr>\n",
       "    <tr>\n",
       "      <th>10</th>\n",
       "      <td>Aprilia</td>\n",
       "      <td>70000.00</td>\n",
       "    </tr>\n",
       "    <tr>\n",
       "      <th>11</th>\n",
       "      <td>Vespa</td>\n",
       "      <td>68250.00</td>\n",
       "    </tr>\n",
       "    <tr>\n",
       "      <th>12</th>\n",
       "      <td>Yamaha</td>\n",
       "      <td>63656.86</td>\n",
       "    </tr>\n",
       "    <tr>\n",
       "      <th>13</th>\n",
       "      <td>Mahindra</td>\n",
       "      <td>62833.33</td>\n",
       "    </tr>\n",
       "    <tr>\n",
       "      <th>14</th>\n",
       "      <td>TVS</td>\n",
       "      <td>46835.40</td>\n",
       "    </tr>\n",
       "    <tr>\n",
       "      <th>15</th>\n",
       "      <td>Bajaj</td>\n",
       "      <td>44990.38</td>\n",
       "    </tr>\n",
       "    <tr>\n",
       "      <th>16</th>\n",
       "      <td>Honda</td>\n",
       "      <td>44916.04</td>\n",
       "    </tr>\n",
       "    <tr>\n",
       "      <th>17</th>\n",
       "      <td>Hero</td>\n",
       "      <td>34603.45</td>\n",
       "    </tr>\n",
       "    <tr>\n",
       "      <th>18</th>\n",
       "      <td>Activa</td>\n",
       "      <td>34000.00</td>\n",
       "    </tr>\n",
       "    <tr>\n",
       "      <th>19</th>\n",
       "      <td>Yo</td>\n",
       "      <td>20000.00</td>\n",
       "    </tr>\n",
       "  </tbody>\n",
       "</table>\n",
       "</div>"
      ],
      "text/plain": [
       "            company  selling_price\n",
       "0   Harley-Davidson      540000.00\n",
       "1               BMW      300000.00\n",
       "2          Kawasaki      287500.00\n",
       "3              Jawa      175000.00\n",
       "4           Benelli      160000.00\n",
       "5                UM      156666.67\n",
       "6               KTM      155708.33\n",
       "7           Hyosung      135000.00\n",
       "8     Royal Enfield      128549.54\n",
       "9            Suzuki       73800.00\n",
       "10          Aprilia       70000.00\n",
       "11            Vespa       68250.00\n",
       "12           Yamaha       63656.86\n",
       "13         Mahindra       62833.33\n",
       "14              TVS       46835.40\n",
       "15            Bajaj       44990.38\n",
       "16            Honda       44916.04\n",
       "17             Hero       34603.45\n",
       "18           Activa       34000.00\n",
       "19               Yo       20000.00"
      ]
     },
     "execution_count": 53,
     "metadata": {},
     "output_type": "execute_result"
    }
   ],
   "source": [
    "df_moto[['company', 'selling_price']].groupby('company').mean().round(\n",
    "    2).sort_values('selling_price', ascending=False).reset_index()"
   ]
  },
  {
   "cell_type": "markdown",
   "id": "2bbe015c",
   "metadata": {},
   "source": [
    "**Qual das fabricantes possui o maior preço mediano de suas motos?**"
   ]
  },
  {
   "cell_type": "code",
   "execution_count": 54,
   "id": "91adf892",
   "metadata": {
    "scrolled": true
   },
   "outputs": [
    {
     "data": {
      "text/html": [
       "<div>\n",
       "<style scoped>\n",
       "    .dataframe tbody tr th:only-of-type {\n",
       "        vertical-align: middle;\n",
       "    }\n",
       "\n",
       "    .dataframe tbody tr th {\n",
       "        vertical-align: top;\n",
       "    }\n",
       "\n",
       "    .dataframe thead th {\n",
       "        text-align: right;\n",
       "    }\n",
       "</style>\n",
       "<table border=\"1\" class=\"dataframe\">\n",
       "  <thead>\n",
       "    <tr style=\"text-align: right;\">\n",
       "      <th></th>\n",
       "      <th>company</th>\n",
       "      <th>selling_price</th>\n",
       "    </tr>\n",
       "  </thead>\n",
       "  <tbody>\n",
       "    <tr>\n",
       "      <th>0</th>\n",
       "      <td>Harley-Davidson</td>\n",
       "      <td>540000.0</td>\n",
       "    </tr>\n",
       "    <tr>\n",
       "      <th>1</th>\n",
       "      <td>BMW</td>\n",
       "      <td>300000.0</td>\n",
       "    </tr>\n",
       "    <tr>\n",
       "      <th>2</th>\n",
       "      <td>Kawasaki</td>\n",
       "      <td>300000.0</td>\n",
       "    </tr>\n",
       "    <tr>\n",
       "      <th>3</th>\n",
       "      <td>Jawa</td>\n",
       "      <td>180000.0</td>\n",
       "    </tr>\n",
       "    <tr>\n",
       "      <th>4</th>\n",
       "      <td>Benelli</td>\n",
       "      <td>160000.0</td>\n",
       "    </tr>\n",
       "    <tr>\n",
       "      <th>5</th>\n",
       "      <td>UM</td>\n",
       "      <td>160000.0</td>\n",
       "    </tr>\n",
       "    <tr>\n",
       "      <th>6</th>\n",
       "      <td>KTM</td>\n",
       "      <td>142500.0</td>\n",
       "    </tr>\n",
       "    <tr>\n",
       "      <th>7</th>\n",
       "      <td>Hyosung</td>\n",
       "      <td>135000.0</td>\n",
       "    </tr>\n",
       "    <tr>\n",
       "      <th>8</th>\n",
       "      <td>Royal Enfield</td>\n",
       "      <td>123000.0</td>\n",
       "    </tr>\n",
       "    <tr>\n",
       "      <th>9</th>\n",
       "      <td>Aprilia</td>\n",
       "      <td>70000.0</td>\n",
       "    </tr>\n",
       "    <tr>\n",
       "      <th>10</th>\n",
       "      <td>Vespa</td>\n",
       "      <td>65000.0</td>\n",
       "    </tr>\n",
       "    <tr>\n",
       "      <th>11</th>\n",
       "      <td>Yamaha</td>\n",
       "      <td>55500.0</td>\n",
       "    </tr>\n",
       "    <tr>\n",
       "      <th>12</th>\n",
       "      <td>Suzuki</td>\n",
       "      <td>45000.0</td>\n",
       "    </tr>\n",
       "    <tr>\n",
       "      <th>13</th>\n",
       "      <td>Honda</td>\n",
       "      <td>42000.0</td>\n",
       "    </tr>\n",
       "    <tr>\n",
       "      <th>14</th>\n",
       "      <td>Activa</td>\n",
       "      <td>40000.0</td>\n",
       "    </tr>\n",
       "    <tr>\n",
       "      <th>15</th>\n",
       "      <td>Bajaj</td>\n",
       "      <td>40000.0</td>\n",
       "    </tr>\n",
       "    <tr>\n",
       "      <th>16</th>\n",
       "      <td>TVS</td>\n",
       "      <td>35000.0</td>\n",
       "    </tr>\n",
       "    <tr>\n",
       "      <th>17</th>\n",
       "      <td>Hero</td>\n",
       "      <td>32950.0</td>\n",
       "    </tr>\n",
       "    <tr>\n",
       "      <th>18</th>\n",
       "      <td>Mahindra</td>\n",
       "      <td>27500.0</td>\n",
       "    </tr>\n",
       "    <tr>\n",
       "      <th>19</th>\n",
       "      <td>Yo</td>\n",
       "      <td>20000.0</td>\n",
       "    </tr>\n",
       "  </tbody>\n",
       "</table>\n",
       "</div>"
      ],
      "text/plain": [
       "            company  selling_price\n",
       "0   Harley-Davidson       540000.0\n",
       "1               BMW       300000.0\n",
       "2          Kawasaki       300000.0\n",
       "3              Jawa       180000.0\n",
       "4           Benelli       160000.0\n",
       "5                UM       160000.0\n",
       "6               KTM       142500.0\n",
       "7           Hyosung       135000.0\n",
       "8     Royal Enfield       123000.0\n",
       "9           Aprilia        70000.0\n",
       "10            Vespa        65000.0\n",
       "11           Yamaha        55500.0\n",
       "12           Suzuki        45000.0\n",
       "13            Honda        42000.0\n",
       "14           Activa        40000.0\n",
       "15            Bajaj        40000.0\n",
       "16              TVS        35000.0\n",
       "17             Hero        32950.0\n",
       "18         Mahindra        27500.0\n",
       "19               Yo        20000.0"
      ]
     },
     "execution_count": 54,
     "metadata": {},
     "output_type": "execute_result"
    }
   ],
   "source": [
    "df_moto[['company', 'selling_price']].groupby('company').median().round(\n",
    "    2).sort_values('selling_price', ascending=False).reset_index()"
   ]
  },
  {
   "cell_type": "markdown",
   "id": "23ea4d17",
   "metadata": {},
   "source": [
    "## Fabricante da motocicleta X Quilometragem\n",
    "\n",
    "**Qual das fabricantes possui a maior quilometragem em média de suas motos?**"
   ]
  },
  {
   "cell_type": "code",
   "execution_count": 55,
   "id": "c14da5dd",
   "metadata": {
    "scrolled": true
   },
   "outputs": [
    {
     "data": {
      "text/html": [
       "<div>\n",
       "<style scoped>\n",
       "    .dataframe tbody tr th:only-of-type {\n",
       "        vertical-align: middle;\n",
       "    }\n",
       "\n",
       "    .dataframe tbody tr th {\n",
       "        vertical-align: top;\n",
       "    }\n",
       "\n",
       "    .dataframe thead th {\n",
       "        text-align: right;\n",
       "    }\n",
       "</style>\n",
       "<table border=\"1\" class=\"dataframe\">\n",
       "  <thead>\n",
       "    <tr style=\"text-align: right;\">\n",
       "      <th></th>\n",
       "      <th>company</th>\n",
       "      <th>km_driven</th>\n",
       "    </tr>\n",
       "  </thead>\n",
       "  <tbody>\n",
       "    <tr>\n",
       "      <th>0</th>\n",
       "      <td>Activa</td>\n",
       "      <td>167266.67</td>\n",
       "    </tr>\n",
       "    <tr>\n",
       "      <th>1</th>\n",
       "      <td>Hero</td>\n",
       "      <td>44328.34</td>\n",
       "    </tr>\n",
       "    <tr>\n",
       "      <th>2</th>\n",
       "      <td>Honda</td>\n",
       "      <td>36745.24</td>\n",
       "    </tr>\n",
       "    <tr>\n",
       "      <th>3</th>\n",
       "      <td>Bajaj</td>\n",
       "      <td>33786.13</td>\n",
       "    </tr>\n",
       "    <tr>\n",
       "      <th>4</th>\n",
       "      <td>TVS</td>\n",
       "      <td>29684.91</td>\n",
       "    </tr>\n",
       "    <tr>\n",
       "      <th>5</th>\n",
       "      <td>Yamaha</td>\n",
       "      <td>28281.86</td>\n",
       "    </tr>\n",
       "    <tr>\n",
       "      <th>6</th>\n",
       "      <td>Suzuki</td>\n",
       "      <td>22194.60</td>\n",
       "    </tr>\n",
       "    <tr>\n",
       "      <th>7</th>\n",
       "      <td>Royal Enfield</td>\n",
       "      <td>20732.94</td>\n",
       "    </tr>\n",
       "    <tr>\n",
       "      <th>8</th>\n",
       "      <td>Vespa</td>\n",
       "      <td>18428.00</td>\n",
       "    </tr>\n",
       "    <tr>\n",
       "      <th>9</th>\n",
       "      <td>Hyosung</td>\n",
       "      <td>16500.00</td>\n",
       "    </tr>\n",
       "    <tr>\n",
       "      <th>10</th>\n",
       "      <td>Mahindra</td>\n",
       "      <td>16238.83</td>\n",
       "    </tr>\n",
       "    <tr>\n",
       "      <th>11</th>\n",
       "      <td>UM</td>\n",
       "      <td>16133.33</td>\n",
       "    </tr>\n",
       "    <tr>\n",
       "      <th>12</th>\n",
       "      <td>Kawasaki</td>\n",
       "      <td>14100.00</td>\n",
       "    </tr>\n",
       "    <tr>\n",
       "      <th>13</th>\n",
       "      <td>KTM</td>\n",
       "      <td>13978.33</td>\n",
       "    </tr>\n",
       "    <tr>\n",
       "      <th>14</th>\n",
       "      <td>Yo</td>\n",
       "      <td>10000.00</td>\n",
       "    </tr>\n",
       "    <tr>\n",
       "      <th>15</th>\n",
       "      <td>Harley-Davidson</td>\n",
       "      <td>9250.00</td>\n",
       "    </tr>\n",
       "    <tr>\n",
       "      <th>16</th>\n",
       "      <td>Aprilia</td>\n",
       "      <td>5000.00</td>\n",
       "    </tr>\n",
       "    <tr>\n",
       "      <th>17</th>\n",
       "      <td>Jawa</td>\n",
       "      <td>3133.33</td>\n",
       "    </tr>\n",
       "    <tr>\n",
       "      <th>18</th>\n",
       "      <td>BMW</td>\n",
       "      <td>2500.00</td>\n",
       "    </tr>\n",
       "    <tr>\n",
       "      <th>19</th>\n",
       "      <td>Benelli</td>\n",
       "      <td>2009.00</td>\n",
       "    </tr>\n",
       "  </tbody>\n",
       "</table>\n",
       "</div>"
      ],
      "text/plain": [
       "            company  km_driven\n",
       "0            Activa  167266.67\n",
       "1              Hero   44328.34\n",
       "2             Honda   36745.24\n",
       "3             Bajaj   33786.13\n",
       "4               TVS   29684.91\n",
       "5            Yamaha   28281.86\n",
       "6            Suzuki   22194.60\n",
       "7     Royal Enfield   20732.94\n",
       "8             Vespa   18428.00\n",
       "9           Hyosung   16500.00\n",
       "10         Mahindra   16238.83\n",
       "11               UM   16133.33\n",
       "12         Kawasaki   14100.00\n",
       "13              KTM   13978.33\n",
       "14               Yo   10000.00\n",
       "15  Harley-Davidson    9250.00\n",
       "16          Aprilia    5000.00\n",
       "17             Jawa    3133.33\n",
       "18              BMW    2500.00\n",
       "19          Benelli    2009.00"
      ]
     },
     "execution_count": 55,
     "metadata": {},
     "output_type": "execute_result"
    }
   ],
   "source": [
    "df_moto[['company', 'km_driven']].groupby('company').mean().round(\n",
    "    2).sort_values('km_driven', ascending=False).reset_index()"
   ]
  },
  {
   "cell_type": "markdown",
   "id": "99f9cb9d",
   "metadata": {},
   "source": [
    "## Fabricante X Ano de fabricação\n",
    "**Qual o fabricante que possui a moto mais velha?**"
   ]
  },
  {
   "cell_type": "code",
   "execution_count": 61,
   "id": "477c594a",
   "metadata": {},
   "outputs": [
    {
     "data": {
      "text/html": [
       "<div>\n",
       "<style scoped>\n",
       "    .dataframe tbody tr th:only-of-type {\n",
       "        vertical-align: middle;\n",
       "    }\n",
       "\n",
       "    .dataframe tbody tr th {\n",
       "        vertical-align: top;\n",
       "    }\n",
       "\n",
       "    .dataframe thead th {\n",
       "        text-align: right;\n",
       "    }\n",
       "</style>\n",
       "<table border=\"1\" class=\"dataframe\">\n",
       "  <thead>\n",
       "    <tr style=\"text-align: right;\">\n",
       "      <th></th>\n",
       "      <th>year</th>\n",
       "    </tr>\n",
       "    <tr>\n",
       "      <th>company</th>\n",
       "      <th></th>\n",
       "    </tr>\n",
       "  </thead>\n",
       "  <tbody>\n",
       "    <tr>\n",
       "      <th>Bajaj</th>\n",
       "      <td>1988</td>\n",
       "    </tr>\n",
       "    <tr>\n",
       "      <th>Royal Enfield</th>\n",
       "      <td>1993</td>\n",
       "    </tr>\n",
       "    <tr>\n",
       "      <th>Hero</th>\n",
       "      <td>1997</td>\n",
       "    </tr>\n",
       "    <tr>\n",
       "      <th>Yamaha</th>\n",
       "      <td>1997</td>\n",
       "    </tr>\n",
       "    <tr>\n",
       "      <th>TVS</th>\n",
       "      <td>1998</td>\n",
       "    </tr>\n",
       "    <tr>\n",
       "      <th>Honda</th>\n",
       "      <td>2006</td>\n",
       "    </tr>\n",
       "    <tr>\n",
       "      <th>Mahindra</th>\n",
       "      <td>2009</td>\n",
       "    </tr>\n",
       "    <tr>\n",
       "      <th>Activa</th>\n",
       "      <td>2010</td>\n",
       "    </tr>\n",
       "    <tr>\n",
       "      <th>Suzuki</th>\n",
       "      <td>2010</td>\n",
       "    </tr>\n",
       "    <tr>\n",
       "      <th>Kawasaki</th>\n",
       "      <td>2010</td>\n",
       "    </tr>\n",
       "    <tr>\n",
       "      <th>Yo</th>\n",
       "      <td>2011</td>\n",
       "    </tr>\n",
       "    <tr>\n",
       "      <th>Harley-Davidson</th>\n",
       "      <td>2013</td>\n",
       "    </tr>\n",
       "    <tr>\n",
       "      <th>Vespa</th>\n",
       "      <td>2013</td>\n",
       "    </tr>\n",
       "    <tr>\n",
       "      <th>KTM</th>\n",
       "      <td>2013</td>\n",
       "    </tr>\n",
       "    <tr>\n",
       "      <th>Hyosung</th>\n",
       "      <td>2016</td>\n",
       "    </tr>\n",
       "    <tr>\n",
       "      <th>Benelli</th>\n",
       "      <td>2017</td>\n",
       "    </tr>\n",
       "    <tr>\n",
       "      <th>UM</th>\n",
       "      <td>2017</td>\n",
       "    </tr>\n",
       "    <tr>\n",
       "      <th>BMW</th>\n",
       "      <td>2018</td>\n",
       "    </tr>\n",
       "    <tr>\n",
       "      <th>Aprilia</th>\n",
       "      <td>2018</td>\n",
       "    </tr>\n",
       "    <tr>\n",
       "      <th>Jawa</th>\n",
       "      <td>2019</td>\n",
       "    </tr>\n",
       "  </tbody>\n",
       "</table>\n",
       "</div>"
      ],
      "text/plain": [
       "                 year\n",
       "company              \n",
       "Bajaj            1988\n",
       "Royal Enfield    1993\n",
       "Hero             1997\n",
       "Yamaha           1997\n",
       "TVS              1998\n",
       "Honda            2006\n",
       "Mahindra         2009\n",
       "Activa           2010\n",
       "Suzuki           2010\n",
       "Kawasaki         2010\n",
       "Yo               2011\n",
       "Harley-Davidson  2013\n",
       "Vespa            2013\n",
       "KTM              2013\n",
       "Hyosung          2016\n",
       "Benelli          2017\n",
       "UM               2017\n",
       "BMW              2018\n",
       "Aprilia          2018\n",
       "Jawa             2019"
      ]
     },
     "execution_count": 61,
     "metadata": {},
     "output_type": "execute_result"
    }
   ],
   "source": [
    "df_moto[['company', 'year']].groupby('company').min().sort_values('year')"
   ]
  },
  {
   "cell_type": "markdown",
   "id": "0164aa9a",
   "metadata": {},
   "source": [
    " **Algumas conclusões:**"
   ]
  },
  {
   "cell_type": "markdown",
   "id": "088a80ed",
   "metadata": {},
   "source": [
    " - Existem 1061 motocicletas no dataset\n",
    " - Existem 20 marcas de motocicletas no dataset. \n",
    " - Existem 279 modelos de motocicletas\n",
    " - A moto mais nova foi fabricada em 2020 e a mais velha em 1988\n",
    " - A média do ano de fabricação é 2013\n",
    " - A motocicleta mais cara custa USD 760000 e a mais barata USD 5000\n",
    " - A média do preço de venda é USD 59638.15\n",
    " - A média de quilometragem percorrida é 34359.83, o máximo 880000 e o mínimo 350\n",
    " - 1055 motocicletas estão sendo vendidas pelos seus donos e 6 motocicletas estão sendo vendidas por revendedores\n",
    " - A maior parte das motocicletas (924) está sendo vendida pelo primeiro dono"
   ]
  },
  {
   "cell_type": "markdown",
   "id": "0428cc45",
   "metadata": {},
   "source": [
    "# FORMULAÇÃO DAS HIPÓTESES"
   ]
  },
  {
   "cell_type": "markdown",
   "id": "a4680624",
   "metadata": {},
   "source": [
    " 1. As motos que possuiram somente 1 dono são as motos mais caras na média que as motos que tiveram mais donos.\n",
    " 2. As motos que possuiram mais donos são as motos que possuem quilometragem média maior que as motos que possuiram menos donos.\n",
    " 3. As motos que possuiram mais donos são as motos mais velhas na média.\n",
    " 4. As motos que são vendidas por revendedores são as motos mais caras na média do que as motos vendidas pelos seus donos."
   ]
  },
  {
   "cell_type": "markdown",
   "id": "b2fab042",
   "metadata": {},
   "source": [
    " ## 1. As motos que possuiram somente 1 dono são motos mais caras na média que as motos que tiveram mais donos."
   ]
  },
  {
   "cell_type": "markdown",
   "id": "e11dfe21",
   "metadata": {},
   "source": [
    "**Conclusões:**\n",
    "\n",
    "    - As motocicletas que estão sendo vendidas pelo 4° dono são as mais caras em média. No entanto, a média não é uma medida resistente para valores discrepantes. A motocicleta de id 311, modelo 'Harley-Davidson Street 750' possui um valor de venda alto em comparação as demais motocicletas que são vendidas pelo 4° dono.\n",
    "    - Neste caso, vamos considerar o valor da mediana. A partir dos valores de mediana podemos concluir que as motos mais caras são as que tiveram 1 dono ou 3 donos. "
   ]
  },
  {
   "cell_type": "code",
   "execution_count": 37,
   "id": "d4afda33",
   "metadata": {},
   "outputs": [
    {
     "data": {
      "text/plain": [
       "Text(0, 0.5, 'PREÇO DE VENDA (USD)')"
      ]
     },
     "execution_count": 37,
     "metadata": {},
     "output_type": "execute_result"
    },
    {
     "data": {
      "image/png": "[encoded data removed]",
      "text/plain": [
       "<Figure size 576x288 with 1 Axes>"
      ]
     },
     "metadata": {
      "needs_background": "light"
     },
     "output_type": "display_data"
    }
   ],
   "source": [
    "plt.figure(figsize=(8, 4))\n",
    "\n",
    "sns.boxplot(x='owner', y='selling_price', data=df_moto, palette='crest')\n",
    "\n",
    "plt.title('BOXPLOT - PREÇO DE VENDA E QUANTIDADE DE DONOS',\n",
    "          fontsize=16,\n",
    "          color='dimgrey',\n",
    "          fontweight='bold')\n",
    "\n",
    "plt.ylabel('PREÇO DE VENDA (USD)',\n",
    "           color='grey',\n",
    "           labelpad=20,\n",
    "           fontsize=14,\n",
    "           fontweight='bold')"
   ]
  },
  {
   "cell_type": "code",
   "execution_count": 35,
   "id": "ce1b0af2",
   "metadata": {
    "scrolled": false
   },
   "outputs": [
    {
     "data": {
      "text/html": [
       "<div>\n",
       "<style scoped>\n",
       "    .dataframe tbody tr th:only-of-type {\n",
       "        vertical-align: middle;\n",
       "    }\n",
       "\n",
       "    .dataframe tbody tr th {\n",
       "        vertical-align: top;\n",
       "    }\n",
       "\n",
       "    .dataframe thead tr th {\n",
       "        text-align: left;\n",
       "    }\n",
       "</style>\n",
       "<table border=\"1\" class=\"dataframe\">\n",
       "  <thead>\n",
       "    <tr>\n",
       "      <th></th>\n",
       "      <th>owner</th>\n",
       "      <th colspan=\"3\" halign=\"left\">selling_price</th>\n",
       "    </tr>\n",
       "    <tr>\n",
       "      <th></th>\n",
       "      <th></th>\n",
       "      <th>median</th>\n",
       "      <th>mean</th>\n",
       "      <th>count</th>\n",
       "    </tr>\n",
       "  </thead>\n",
       "  <tbody>\n",
       "    <tr>\n",
       "      <th>0</th>\n",
       "      <td>1st owner</td>\n",
       "      <td>45000.0</td>\n",
       "      <td>60022.813853</td>\n",
       "      <td>924</td>\n",
       "    </tr>\n",
       "    <tr>\n",
       "      <th>1</th>\n",
       "      <td>2nd owner</td>\n",
       "      <td>32000.0</td>\n",
       "      <td>55666.658537</td>\n",
       "      <td>123</td>\n",
       "    </tr>\n",
       "    <tr>\n",
       "      <th>2</th>\n",
       "      <td>3rd owner</td>\n",
       "      <td>45000.0</td>\n",
       "      <td>55727.272727</td>\n",
       "      <td>11</td>\n",
       "    </tr>\n",
       "    <tr>\n",
       "      <th>3</th>\n",
       "      <td>4th owner</td>\n",
       "      <td>15000.0</td>\n",
       "      <td>118333.333333</td>\n",
       "      <td>3</td>\n",
       "    </tr>\n",
       "  </tbody>\n",
       "</table>\n",
       "</div>"
      ],
      "text/plain": [
       "       owner selling_price                     \n",
       "                    median           mean count\n",
       "0  1st owner       45000.0   60022.813853   924\n",
       "1  2nd owner       32000.0   55666.658537   123\n",
       "2  3rd owner       45000.0   55727.272727    11\n",
       "3  4th owner       15000.0  118333.333333     3"
      ]
     },
     "execution_count": 35,
     "metadata": {},
     "output_type": "execute_result"
    }
   ],
   "source": [
    "df_moto[['owner', 'selling_price']].groupby('owner').agg(\n",
    "    ['median', 'mean', 'count']).reset_index()"
   ]
  },
  {
   "cell_type": "code",
   "execution_count": 22,
   "id": "486e6db1",
   "metadata": {
    "scrolled": true
   },
   "outputs": [
    {
     "data": {
      "text/html": [
       "<div>\n",
       "<style scoped>\n",
       "    .dataframe tbody tr th:only-of-type {\n",
       "        vertical-align: middle;\n",
       "    }\n",
       "\n",
       "    .dataframe tbody tr th {\n",
       "        vertical-align: top;\n",
       "    }\n",
       "\n",
       "    .dataframe thead th {\n",
       "        text-align: right;\n",
       "    }\n",
       "</style>\n",
       "<table border=\"1\" class=\"dataframe\">\n",
       "  <thead>\n",
       "    <tr style=\"text-align: right;\">\n",
       "      <th></th>\n",
       "      <th>id</th>\n",
       "      <th>name</th>\n",
       "      <th>selling_price</th>\n",
       "      <th>year</th>\n",
       "      <th>seller_type</th>\n",
       "      <th>owner</th>\n",
       "      <th>km_driven</th>\n",
       "      <th>ex_showroom_price</th>\n",
       "      <th>km_class</th>\n",
       "      <th>age</th>\n",
       "      <th>company</th>\n",
       "    </tr>\n",
       "  </thead>\n",
       "  <tbody>\n",
       "    <tr>\n",
       "      <th>311</th>\n",
       "      <td>311</td>\n",
       "      <td>Harley-Davidson Street 750</td>\n",
       "      <td>330000.0</td>\n",
       "      <td>2014</td>\n",
       "      <td>Individual</td>\n",
       "      <td>4th owner</td>\n",
       "      <td>6500</td>\n",
       "      <td>534000.0</td>\n",
       "      <td>2</td>\n",
       "      <td>8</td>\n",
       "      <td>Harley-Davidson</td>\n",
       "    </tr>\n",
       "    <tr>\n",
       "      <th>642</th>\n",
       "      <td>642</td>\n",
       "      <td>TVS Apache RTR 160</td>\n",
       "      <td>15000.0</td>\n",
       "      <td>2009</td>\n",
       "      <td>Individual</td>\n",
       "      <td>4th owner</td>\n",
       "      <td>880000</td>\n",
       "      <td>NaN</td>\n",
       "      <td>176</td>\n",
       "      <td>13</td>\n",
       "      <td>TVS</td>\n",
       "    </tr>\n",
       "    <tr>\n",
       "      <th>698</th>\n",
       "      <td>698</td>\n",
       "      <td>Hero Honda CBZ</td>\n",
       "      <td>10000.0</td>\n",
       "      <td>2000</td>\n",
       "      <td>Individual</td>\n",
       "      <td>4th owner</td>\n",
       "      <td>48000</td>\n",
       "      <td>NaN</td>\n",
       "      <td>10</td>\n",
       "      <td>22</td>\n",
       "      <td>Hero</td>\n",
       "    </tr>\n",
       "  </tbody>\n",
       "</table>\n",
       "</div>"
      ],
      "text/plain": [
       "      id                        name  selling_price  year seller_type  \\\n",
       "311  311  Harley-Davidson Street 750       330000.0  2014  Individual   \n",
       "642  642          TVS Apache RTR 160        15000.0  2009  Individual   \n",
       "698  698              Hero Honda CBZ        10000.0  2000  Individual   \n",
       "\n",
       "         owner  km_driven  ex_showroom_price  km_class  age          company  \n",
       "311  4th owner       6500           534000.0         2    8  Harley-Davidson  \n",
       "642  4th owner     880000                NaN       176   13              TVS  \n",
       "698  4th owner      48000                NaN        10   22             Hero  "
      ]
     },
     "execution_count": 22,
     "metadata": {},
     "output_type": "execute_result"
    }
   ],
   "source": [
    "# Vamos verificar o 'selling_price' das motocicletas vendidas pelo 4° dono.\n",
    "df_moto.loc[df_moto['owner'] == '4th owner', :]"
   ]
  },
  {
   "cell_type": "code",
   "execution_count": 23,
   "id": "87a58e17",
   "metadata": {},
   "outputs": [
    {
     "data": {
      "text/html": [
       "<div>\n",
       "<style scoped>\n",
       "    .dataframe tbody tr th:only-of-type {\n",
       "        vertical-align: middle;\n",
       "    }\n",
       "\n",
       "    .dataframe tbody tr th {\n",
       "        vertical-align: top;\n",
       "    }\n",
       "\n",
       "    .dataframe thead th {\n",
       "        text-align: right;\n",
       "    }\n",
       "</style>\n",
       "<table border=\"1\" class=\"dataframe\">\n",
       "  <thead>\n",
       "    <tr style=\"text-align: right;\">\n",
       "      <th></th>\n",
       "      <th>id</th>\n",
       "      <th>name</th>\n",
       "      <th>selling_price</th>\n",
       "      <th>year</th>\n",
       "      <th>seller_type</th>\n",
       "      <th>owner</th>\n",
       "      <th>km_driven</th>\n",
       "      <th>ex_showroom_price</th>\n",
       "      <th>km_class</th>\n",
       "      <th>age</th>\n",
       "      <th>company</th>\n",
       "    </tr>\n",
       "  </thead>\n",
       "  <tbody>\n",
       "    <tr>\n",
       "      <th>134</th>\n",
       "      <td>134</td>\n",
       "      <td>Harley-Davidson Street Bob</td>\n",
       "      <td>750000.0</td>\n",
       "      <td>2013</td>\n",
       "      <td>Individual</td>\n",
       "      <td>2nd owner</td>\n",
       "      <td>12000</td>\n",
       "      <td>1278000.0</td>\n",
       "      <td>3</td>\n",
       "      <td>9</td>\n",
       "      <td>Harley-Davidson</td>\n",
       "    </tr>\n",
       "    <tr>\n",
       "      <th>311</th>\n",
       "      <td>311</td>\n",
       "      <td>Harley-Davidson Street 750</td>\n",
       "      <td>330000.0</td>\n",
       "      <td>2014</td>\n",
       "      <td>Individual</td>\n",
       "      <td>4th owner</td>\n",
       "      <td>6500</td>\n",
       "      <td>534000.0</td>\n",
       "      <td>2</td>\n",
       "      <td>8</td>\n",
       "      <td>Harley-Davidson</td>\n",
       "    </tr>\n",
       "  </tbody>\n",
       "</table>\n",
       "</div>"
      ],
      "text/plain": [
       "      id                        name  selling_price  year seller_type  \\\n",
       "134  134  Harley-Davidson Street Bob       750000.0  2013  Individual   \n",
       "311  311  Harley-Davidson Street 750       330000.0  2014  Individual   \n",
       "\n",
       "         owner  km_driven  ex_showroom_price  km_class  age          company  \n",
       "134  2nd owner      12000          1278000.0         3    9  Harley-Davidson  \n",
       "311  4th owner       6500           534000.0         2    8  Harley-Davidson  "
      ]
     },
     "execution_count": 23,
     "metadata": {},
     "output_type": "execute_result"
    }
   ],
   "source": [
    "df_moto.loc[df_moto['company'] == 'Harley-Davidson', :]"
   ]
  },
  {
   "cell_type": "markdown",
   "id": "d24c0b1b",
   "metadata": {},
   "source": [
    "## 2. As motos que possuiram mais donos são as motos que possuem quilometragem média maior que as motos que possuiram menos donos."
   ]
  },
  {
   "cell_type": "markdown",
   "id": "e936be61",
   "metadata": {},
   "source": []
  },
  {
   "cell_type": "code",
   "execution_count": 31,
   "id": "6a444e5f",
   "metadata": {
    "scrolled": true
   },
   "outputs": [
    {
     "data": {
      "image/png": "[encoded data removed]",
      "text/plain": [
       "<Figure size 576x288 with 1 Axes>"
      ]
     },
     "metadata": {
      "needs_background": "light"
     },
     "output_type": "display_data"
    }
   ],
   "source": [
    "plt.figure(figsize=(8, 4))\n",
    "\n",
    "sns.boxplot(x='owner', y='km_driven', data=df_moto, palette='crest')\n",
    "\n",
    "plt.title('BOXPLOT - QUILOMETRAGEM E QUANTIDADE DE DONOS',\n",
    "          fontsize=16,\n",
    "          color='dimgrey',\n",
    "          fontweight='bold')\n",
    "\n",
    "plt.ylabel('QUILOMETRAGEM',\n",
    "           color='grey',\n",
    "           labelpad=20,\n",
    "           fontsize=14,\n",
    "           fontweight='bold')"
   ]
  },
  {
   "cell_type": "code",
   "execution_count": 38,
   "id": "5b363c27",
   "metadata": {},
   "outputs": [
    {
     "data": {
      "text/html": [
       "<div>\n",
       "<style scoped>\n",
       "    .dataframe tbody tr th:only-of-type {\n",
       "        vertical-align: middle;\n",
       "    }\n",
       "\n",
       "    .dataframe tbody tr th {\n",
       "        vertical-align: top;\n",
       "    }\n",
       "\n",
       "    .dataframe thead tr th {\n",
       "        text-align: left;\n",
       "    }\n",
       "</style>\n",
       "<table border=\"1\" class=\"dataframe\">\n",
       "  <thead>\n",
       "    <tr>\n",
       "      <th></th>\n",
       "      <th>owner</th>\n",
       "      <th colspan=\"2\" halign=\"left\">km_driven</th>\n",
       "    </tr>\n",
       "    <tr>\n",
       "      <th></th>\n",
       "      <th></th>\n",
       "      <th>median</th>\n",
       "      <th>mean</th>\n",
       "    </tr>\n",
       "  </thead>\n",
       "  <tbody>\n",
       "    <tr>\n",
       "      <th>0</th>\n",
       "      <td>1st owner</td>\n",
       "      <td>24000.0</td>\n",
       "      <td>32816.583333</td>\n",
       "    </tr>\n",
       "    <tr>\n",
       "      <th>1</th>\n",
       "      <td>2nd owner</td>\n",
       "      <td>34000.0</td>\n",
       "      <td>39288.991870</td>\n",
       "    </tr>\n",
       "    <tr>\n",
       "      <th>2</th>\n",
       "      <td>3rd owner</td>\n",
       "      <td>35000.0</td>\n",
       "      <td>33292.181818</td>\n",
       "    </tr>\n",
       "    <tr>\n",
       "      <th>3</th>\n",
       "      <td>4th owner</td>\n",
       "      <td>48000.0</td>\n",
       "      <td>311500.000000</td>\n",
       "    </tr>\n",
       "  </tbody>\n",
       "</table>\n",
       "</div>"
      ],
      "text/plain": [
       "       owner km_driven               \n",
       "                median           mean\n",
       "0  1st owner   24000.0   32816.583333\n",
       "1  2nd owner   34000.0   39288.991870\n",
       "2  3rd owner   35000.0   33292.181818\n",
       "3  4th owner   48000.0  311500.000000"
      ]
     },
     "execution_count": 38,
     "metadata": {},
     "output_type": "execute_result"
    }
   ],
   "source": [
    "df_moto[['owner', 'km_driven']].groupby(\n",
    "    'owner').agg(['median', 'mean']).reset_index()"
   ]
  },
  {
   "cell_type": "markdown",
   "id": "9a328f99",
   "metadata": {},
   "source": [
    "## 3. As motos que possuiram mais donos são as motos mais velhas na média."
   ]
  },
  {
   "cell_type": "code",
   "execution_count": null,
   "id": "9f841c5a",
   "metadata": {},
   "outputs": [],
   "source": []
  },
  {
   "cell_type": "code",
   "execution_count": 29,
   "id": "106a8fb2",
   "metadata": {},
   "outputs": [
    {
     "data": {
      "text/html": [
       "<div>\n",
       "<style scoped>\n",
       "    .dataframe tbody tr th:only-of-type {\n",
       "        vertical-align: middle;\n",
       "    }\n",
       "\n",
       "    .dataframe tbody tr th {\n",
       "        vertical-align: top;\n",
       "    }\n",
       "\n",
       "    .dataframe thead tr th {\n",
       "        text-align: left;\n",
       "    }\n",
       "</style>\n",
       "<table border=\"1\" class=\"dataframe\">\n",
       "  <thead>\n",
       "    <tr>\n",
       "      <th></th>\n",
       "      <th>owner</th>\n",
       "      <th colspan=\"2\" halign=\"left\">year</th>\n",
       "    </tr>\n",
       "    <tr>\n",
       "      <th></th>\n",
       "      <th></th>\n",
       "      <th>median</th>\n",
       "      <th>mean</th>\n",
       "    </tr>\n",
       "  </thead>\n",
       "  <tbody>\n",
       "    <tr>\n",
       "      <th>0</th>\n",
       "      <td>1st owner</td>\n",
       "      <td>2015.0</td>\n",
       "      <td>2014.200216</td>\n",
       "    </tr>\n",
       "    <tr>\n",
       "      <th>1</th>\n",
       "      <td>2nd owner</td>\n",
       "      <td>2013.0</td>\n",
       "      <td>2012.056911</td>\n",
       "    </tr>\n",
       "    <tr>\n",
       "      <th>2</th>\n",
       "      <td>3rd owner</td>\n",
       "      <td>2009.0</td>\n",
       "      <td>2007.818182</td>\n",
       "    </tr>\n",
       "    <tr>\n",
       "      <th>3</th>\n",
       "      <td>4th owner</td>\n",
       "      <td>2009.0</td>\n",
       "      <td>2007.666667</td>\n",
       "    </tr>\n",
       "  </tbody>\n",
       "</table>\n",
       "</div>"
      ],
      "text/plain": [
       "       owner    year             \n",
       "              median         mean\n",
       "0  1st owner  2015.0  2014.200216\n",
       "1  2nd owner  2013.0  2012.056911\n",
       "2  3rd owner  2009.0  2007.818182\n",
       "3  4th owner  2009.0  2007.666667"
      ]
     },
     "execution_count": 29,
     "metadata": {},
     "output_type": "execute_result"
    }
   ],
   "source": [
    "df_moto[['owner', 'year']].groupby('owner').agg(['median', 'mean']).reset_index()"
   ]
  },
  {
   "cell_type": "markdown",
   "id": "8a8ed32f",
   "metadata": {},
   "source": [
    "## 4. As motos que são vendidas por revendedores são as motos mais caras na média do que as motos vendidas pelos seus donos."
   ]
  },
  {
   "cell_type": "code",
   "execution_count": null,
   "id": "637bbbd8",
   "metadata": {},
   "outputs": [],
   "source": []
  },
  {
   "cell_type": "code",
   "execution_count": 36,
   "id": "648bd5ed",
   "metadata": {
    "scrolled": true
   },
   "outputs": [
    {
     "data": {
      "text/html": [
       "<div>\n",
       "<style scoped>\n",
       "    .dataframe tbody tr th:only-of-type {\n",
       "        vertical-align: middle;\n",
       "    }\n",
       "\n",
       "    .dataframe tbody tr th {\n",
       "        vertical-align: top;\n",
       "    }\n",
       "\n",
       "    .dataframe thead tr th {\n",
       "        text-align: left;\n",
       "    }\n",
       "</style>\n",
       "<table border=\"1\" class=\"dataframe\">\n",
       "  <thead>\n",
       "    <tr>\n",
       "      <th></th>\n",
       "      <th>seller_type</th>\n",
       "      <th colspan=\"3\" halign=\"left\">selling_price</th>\n",
       "    </tr>\n",
       "    <tr>\n",
       "      <th></th>\n",
       "      <th></th>\n",
       "      <th>median</th>\n",
       "      <th>mean</th>\n",
       "      <th>count</th>\n",
       "    </tr>\n",
       "  </thead>\n",
       "  <tbody>\n",
       "    <tr>\n",
       "      <th>0</th>\n",
       "      <td>Dealer</td>\n",
       "      <td>44000.0</td>\n",
       "      <td>46666.666667</td>\n",
       "      <td>6</td>\n",
       "    </tr>\n",
       "    <tr>\n",
       "      <th>1</th>\n",
       "      <td>Individual</td>\n",
       "      <td>45000.0</td>\n",
       "      <td>59711.923223</td>\n",
       "      <td>1055</td>\n",
       "    </tr>\n",
       "  </tbody>\n",
       "</table>\n",
       "</div>"
      ],
      "text/plain": [
       "  seller_type selling_price                    \n",
       "                     median          mean count\n",
       "0      Dealer       44000.0  46666.666667     6\n",
       "1  Individual       45000.0  59711.923223  1055"
      ]
     },
     "execution_count": 36,
     "metadata": {},
     "output_type": "execute_result"
    }
   ],
   "source": [
    "df_moto[['seller_type', 'selling_price']].groupby('seller_type').agg(['median', 'mean', 'count']).reset_index()"
   ]
  },
  {
   "cell_type": "markdown",
   "id": "ccfad6aa",
   "metadata": {
    "scrolled": true
   },
   "source": [
    "## Quais motos eu devo comprar? \n",
    "   - Leve em conta que eu desejo motos com no máximo 3 anos de uso; no máximo 40 mil quilometros rodados; que sejam de um único dono; que estejam sendo vendidas por possoas físicas e que tenham o valor pretendido de venda menor que o valor do showroom. Envie um relatório contendo o modelo, preço de venda, quilometro rodado e ano, ordenado por valor de venda de forma decrescente."
   ]
  },
  {
   "cell_type": "code",
   "execution_count": 64,
   "id": "47a1b411",
   "metadata": {},
   "outputs": [],
   "source": [
    "ano = (df_moto['year'] >= 2018)\n",
    "\n",
    "km_rodado = (df_moto['km_driven'] <= 40000)\n",
    "\n",
    "dono = (df_moto['owner'] == '1st owner')\n",
    "\n",
    "vendedor = (df_moto['seller_type'] == 'Individual')\n",
    "\n",
    "venda = (df_moto['selling_price'] < df_moto['ex_showroom_price'])"
   ]
  },
  {
   "cell_type": "code",
   "execution_count": 73,
   "id": "921369e0",
   "metadata": {},
   "outputs": [],
   "source": [
    "df_selected = df_moto.loc[\n",
    "    ano & km_rodado & dono & vendedor & venda,\n",
    "    ['id','name', 'selling_price', 'km_driven', 'year']].sort_values(\n",
    "        'selling_price', ascending=False)"
   ]
  },
  {
   "cell_type": "code",
   "execution_count": 74,
   "id": "321f57a5",
   "metadata": {
    "scrolled": true
   },
   "outputs": [
    {
     "data": {
      "text/html": [
       "<div>\n",
       "<style scoped>\n",
       "    .dataframe tbody tr th:only-of-type {\n",
       "        vertical-align: middle;\n",
       "    }\n",
       "\n",
       "    .dataframe tbody tr th {\n",
       "        vertical-align: top;\n",
       "    }\n",
       "\n",
       "    .dataframe thead th {\n",
       "        text-align: right;\n",
       "    }\n",
       "</style>\n",
       "<table border=\"1\" class=\"dataframe\">\n",
       "  <thead>\n",
       "    <tr style=\"text-align: right;\">\n",
       "      <th></th>\n",
       "      <th>id</th>\n",
       "      <th>name</th>\n",
       "      <th>selling_price</th>\n",
       "      <th>km_driven</th>\n",
       "      <th>year</th>\n",
       "    </tr>\n",
       "  </thead>\n",
       "  <tbody>\n",
       "    <tr>\n",
       "      <th>344</th>\n",
       "      <td>344</td>\n",
       "      <td>BMW G310GS</td>\n",
       "      <td>300000.0</td>\n",
       "      <td>2500</td>\n",
       "      <td>2018</td>\n",
       "    </tr>\n",
       "    <tr>\n",
       "      <th>588</th>\n",
       "      <td>588</td>\n",
       "      <td>Honda CBR-250R</td>\n",
       "      <td>200000.0</td>\n",
       "      <td>5500</td>\n",
       "      <td>2019</td>\n",
       "    </tr>\n",
       "    <tr>\n",
       "      <th>865</th>\n",
       "      <td>865</td>\n",
       "      <td>Royal Enfield Thunderbird 500X</td>\n",
       "      <td>185000.0</td>\n",
       "      <td>1500</td>\n",
       "      <td>2018</td>\n",
       "    </tr>\n",
       "    <tr>\n",
       "      <th>960</th>\n",
       "      <td>960</td>\n",
       "      <td>Royal Enfield Thunder 500</td>\n",
       "      <td>175000.0</td>\n",
       "      <td>3000</td>\n",
       "      <td>2018</td>\n",
       "    </tr>\n",
       "    <tr>\n",
       "      <th>961</th>\n",
       "      <td>961</td>\n",
       "      <td>UM Renegade Mojave</td>\n",
       "      <td>170000.0</td>\n",
       "      <td>1400</td>\n",
       "      <td>2019</td>\n",
       "    </tr>\n",
       "  </tbody>\n",
       "</table>\n",
       "</div>"
      ],
      "text/plain": [
       "      id                            name  selling_price  km_driven  year\n",
       "344  344                      BMW G310GS       300000.0       2500  2018\n",
       "588  588                  Honda CBR-250R       200000.0       5500  2019\n",
       "865  865  Royal Enfield Thunderbird 500X       185000.0       1500  2018\n",
       "960  960       Royal Enfield Thunder 500       175000.0       3000  2018\n",
       "961  961              UM Renegade Mojave       170000.0       1400  2019"
      ]
     },
     "execution_count": 74,
     "metadata": {},
     "output_type": "execute_result"
    }
   ],
   "source": [
    "df_selected.head()"
   ]
  }
 ],
 "metadata": {
  "kernelspec": {
   "display_name": "Python 3 (ipykernel)",
   "language": "python",
   "name": "python3"
  },
  "language_info": {
   "codemirror_mode": {
    "name": "ipython",
    "version": 3
   },
   "file_extension": ".py",
   "mimetype": "text/x-python",
   "name": "python",
   "nbconvert_exporter": "python",
   "pygments_lexer": "ipython3",
   "version": "3.9.13"
  },
  "toc": {
   "base_numbering": 1,
   "nav_menu": {},
   "number_sections": true,
   "sideBar": true,
   "skip_h1_title": false,
   "title_cell": "Table of Contents",
   "title_sidebar": "Contents",
   "toc_cell": false,
   "toc_position": {
    "height": "calc(100% - 180px)",
    "left": "10px",
    "top": "150px",
    "width": "283.038px"
   },
   "toc_section_display": true,
   "toc_window_display": true
  }
 },
 "nbformat": 4,
 "nbformat_minor": 5
}
